{
 "cells": [
  {
   "cell_type": "markdown",
   "metadata": {},
   "source": [
    "# `depotdb`, `depotr` and `iexcloudr`"
   ]
  },
  {
   "cell_type": "markdown",
   "metadata": {},
   "source": [
    "Intro about here"
   ]
  },
  {
   "cell_type": "markdown",
   "metadata": {},
   "source": [
    "## `R` Package `iexcloudr` \n",
    "\n",
    "provides access to selected [IEX cloud](https://iexcloud.io/docs/api/) web API functionality:"
   ]
  },
  {
   "cell_type": "code",
   "execution_count": 2,
   "metadata": {
    "scrolled": false
   },
   "outputs": [
    {
     "name": "stderr",
     "output_type": "stream",
     "text": [
      "iexcloudr sandbox mode\n",
      "\n"
     ]
    }
   ],
   "source": [
    "suppressWarnings(library(magrittr))\n",
    "suppressWarnings(library(iexcloudr))\n",
    "iexcloudr::apikey(api_key =  Sys.getenv(\"IEXAPIKEYPUBLIC\"),\n",
    "                  secret_key = Sys.getenv(\"IEXAPIKEYSECRET\"),sandbox = TRUE)"
   ]
  },
  {
   "cell_type": "code",
   "execution_count": 3,
   "metadata": {
    "scrolled": true
   },
   "outputs": [
    {
     "data": {
      "text/html": [
       "<table class=\"dataframe\">\n",
       "<caption>A tibble: 8 × 5</caption>\n",
       "<thead>\n",
       "\t<tr><th scope=col>exchange</th><th scope=col>region</th><th scope=col>description</th><th scope=col>mic</th><th scope=col>exchangeSuffix</th></tr>\n",
       "\t<tr><th scope=col>&lt;chr&gt;</th><th scope=col>&lt;chr&gt;</th><th scope=col>&lt;chr&gt;</th><th scope=col>&lt;chr&gt;</th><th scope=col>&lt;chr&gt;</th></tr>\n",
       "</thead>\n",
       "<tbody>\n",
       "\t<tr><td>STU</td><td>DE</td><td>SoeuattesgrrBt t                    </td><td>XUTS</td><td>SG-</td></tr>\n",
       "\t<tr><td>DUS</td><td>DE</td><td>irrukseFoe hrredBf sseoleveeDr      </td><td>DSUX</td><td>D-G</td></tr>\n",
       "\t<tr><td>BER</td><td>DE</td><td>rhrvlnekeeseeoeFrirrB  iB           </td><td>XEBR</td><td>BG-</td></tr>\n",
       "\t<tr><td>FRA</td><td>DE</td><td>fvrei seerhkoakrnF uBFrtrere        </td><td>RXFA</td><td>GF-</td></tr>\n",
       "\t<tr><td>HAN</td><td>DE</td><td>onisedrsiaoHeeeZehrvu enBch c earssN</td><td>AHXN</td><td>GI-</td></tr>\n",
       "\t<tr><td>ETR</td><td>DE</td><td>Xtear                               </td><td>ERTX</td><td>G-Y</td></tr>\n",
       "\t<tr><td>HAM</td><td>DE</td><td>eovrrbFBgrh ieHamree skeru          </td><td>AMXH</td><td>HG-</td></tr>\n",
       "\t<tr><td>MUN</td><td>DE</td><td>BvhMe Fhuekeesornerrcee nri         </td><td>UMNX</td><td>GM-</td></tr>\n",
       "</tbody>\n",
       "</table>\n"
      ],
      "text/latex": [
       "A tibble: 8 × 5\n",
       "\\begin{tabular}{lllll}\n",
       " exchange & region & description & mic & exchangeSuffix\\\\\n",
       " <chr> & <chr> & <chr> & <chr> & <chr>\\\\\n",
       "\\hline\n",
       "\t STU & DE & SoeuattesgrrBt t                     & XUTS & SG-\\\\\n",
       "\t DUS & DE & irrukseFoe hrredBf sseoleveeDr       & DSUX & D-G\\\\\n",
       "\t BER & DE & rhrvlnekeeseeoeFrirrB  iB            & XEBR & BG-\\\\\n",
       "\t FRA & DE & fvrei seerhkoakrnF uBFrtrere         & RXFA & GF-\\\\\n",
       "\t HAN & DE & onisedrsiaoHeeeZehrvu enBch c earssN & AHXN & GI-\\\\\n",
       "\t ETR & DE & Xtear                                & ERTX & G-Y\\\\\n",
       "\t HAM & DE & eovrrbFBgrh ieHamree skeru           & AMXH & HG-\\\\\n",
       "\t MUN & DE & BvhMe Fhuekeesornerrcee nri          & UMNX & GM-\\\\\n",
       "\\end{tabular}\n"
      ],
      "text/markdown": [
       "\n",
       "A tibble: 8 × 5\n",
       "\n",
       "| exchange &lt;chr&gt; | region &lt;chr&gt; | description &lt;chr&gt; | mic &lt;chr&gt; | exchangeSuffix &lt;chr&gt; |\n",
       "|---|---|---|---|---|\n",
       "| STU | DE | SoeuattesgrrBt t                     | XUTS | SG- |\n",
       "| DUS | DE | irrukseFoe hrredBf sseoleveeDr       | DSUX | D-G |\n",
       "| BER | DE | rhrvlnekeeseeoeFrirrB  iB            | XEBR | BG- |\n",
       "| FRA | DE | fvrei seerhkoakrnF uBFrtrere         | RXFA | GF- |\n",
       "| HAN | DE | onisedrsiaoHeeeZehrvu enBch c earssN | AHXN | GI- |\n",
       "| ETR | DE | Xtear                                | ERTX | G-Y |\n",
       "| HAM | DE | eovrrbFBgrh ieHamree skeru           | AMXH | HG- |\n",
       "| MUN | DE | BvhMe Fhuekeesornerrcee nri          | UMNX | GM- |\n",
       "\n"
      ],
      "text/plain": [
       "  exchange region description                          mic  exchangeSuffix\n",
       "1 STU      DE     SoeuattesgrrBt t                     XUTS SG-           \n",
       "2 DUS      DE     irrukseFoe hrredBf sseoleveeDr       DSUX D-G           \n",
       "3 BER      DE     rhrvlnekeeseeoeFrirrB  iB            XEBR BG-           \n",
       "4 FRA      DE     fvrei seerhkoakrnF uBFrtrere         RXFA GF-           \n",
       "5 HAN      DE     onisedrsiaoHeeeZehrvu enBch c earssN AHXN GI-           \n",
       "6 ETR      DE     Xtear                                ERTX G-Y           \n",
       "7 HAM      DE     eovrrbFBgrh ieHamree skeru           AMXH HG-           \n",
       "8 MUN      DE     BvhMe Fhuekeesornerrcee nri          UMNX GM-           "
      ]
     },
     "metadata": {},
     "output_type": "display_data"
    }
   ],
   "source": [
    "iexcloudr::exchanges() %>% dplyr::filter(region=='DE')"
   ]
  },
  {
   "cell_type": "code",
   "execution_count": 4,
   "metadata": {},
   "outputs": [
    {
     "data": {
      "text/html": [
       "<table class=\"dataframe\">\n",
       "<caption>A tibble: 5 × 6</caption>\n",
       "<thead>\n",
       "\t<tr><th scope=col>symbol</th><th scope=col>name</th><th scope=col>date</th><th scope=col>type</th><th scope=col>currency</th><th scope=col>isEnabled</th></tr>\n",
       "\t<tr><th scope=col>&lt;chr&gt;</th><th scope=col>&lt;chr&gt;</th><th scope=col>&lt;chr&gt;</th><th scope=col>&lt;chr&gt;</th><th scope=col>&lt;chr&gt;</th><th scope=col>&lt;lgl&gt;</th></tr>\n",
       "</thead>\n",
       "<tbody>\n",
       "\t<tr><td>00XJ-GY</td><td>dsu eFidiDyeW EmgeEorSeleTUddeH- sami ite emotdiSgido i HctTCR rd yemL</td><td>2021-05-24</td><td>et</td><td>EUR</td><td>TRUE</td></tr>\n",
       "\t<tr><td>00XK-GY</td><td> e te ti am ERm grm-iee iESyCdHocdiWoTdisFLis  dTreeeDeyueUiSldtgddHom</td><td>2021-05-24</td><td>et</td><td>EUR</td><td>TRUE</td></tr>\n",
       "\t<tr><td>00XL-GY</td><td>eo GeCTDb T eaE-ETmHlar FbeHeg R alnsFIpE iU dtSbF nvlymEptd          </td><td>2021-05-24</td><td>et</td><td>EUR</td><td>TRUE</td></tr>\n",
       "\t<tr><td>00XM-GY</td><td>iueS iTtee EdgocHm md er -tamEdys SdiFetgeCWiDoymTdeH ise riL odUedilR</td><td>2021-05-24</td><td>et</td><td>EUR</td><td>TRUE</td></tr>\n",
       "\t<tr><td>00XN-GY</td><td> sse deEddti cUyiH eoLtdEdlmTu yeTroiitDHeaeeSdW o  e i-mFiCgSdRgmrime</td><td>2021-05-24</td><td>et</td><td>EUR</td><td>TRUE</td></tr>\n",
       "</tbody>\n",
       "</table>\n"
      ],
      "text/latex": [
       "A tibble: 5 × 6\n",
       "\\begin{tabular}{llllll}\n",
       " symbol & name & date & type & currency & isEnabled\\\\\n",
       " <chr> & <chr> & <chr> & <chr> & <chr> & <lgl>\\\\\n",
       "\\hline\n",
       "\t 00XJ-GY & dsu eFidiDyeW EmgeEorSeleTUddeH- sami ite emotdiSgido i HctTCR rd yemL & 2021-05-24 & et & EUR & TRUE\\\\\n",
       "\t 00XK-GY &  e te ti am ERm grm-iee iESyCdHocdiWoTdisFLis  dTreeeDeyueUiSldtgddHom & 2021-05-24 & et & EUR & TRUE\\\\\n",
       "\t 00XL-GY & eo GeCTDb T eaE-ETmHlar FbeHeg R alnsFIpE iU dtSbF nvlymEptd           & 2021-05-24 & et & EUR & TRUE\\\\\n",
       "\t 00XM-GY & iueS iTtee EdgocHm md er -tamEdys SdiFetgeCWiDoymTdeH ise riL odUedilR & 2021-05-24 & et & EUR & TRUE\\\\\n",
       "\t 00XN-GY &  sse deEddti cUyiH eoLtdEdlmTu yeTroiitDHeaeeSdW o  e i-mFiCgSdRgmrime & 2021-05-24 & et & EUR & TRUE\\\\\n",
       "\\end{tabular}\n"
      ],
      "text/markdown": [
       "\n",
       "A tibble: 5 × 6\n",
       "\n",
       "| symbol &lt;chr&gt; | name &lt;chr&gt; | date &lt;chr&gt; | type &lt;chr&gt; | currency &lt;chr&gt; | isEnabled &lt;lgl&gt; |\n",
       "|---|---|---|---|---|---|\n",
       "| 00XJ-GY | dsu eFidiDyeW EmgeEorSeleTUddeH- sami ite emotdiSgido i HctTCR rd yemL | 2021-05-24 | et | EUR | TRUE |\n",
       "| 00XK-GY |  e te ti am ERm grm-iee iESyCdHocdiWoTdisFLis  dTreeeDeyueUiSldtgddHom | 2021-05-24 | et | EUR | TRUE |\n",
       "| 00XL-GY | eo GeCTDb T eaE-ETmHlar FbeHeg R alnsFIpE iU dtSbF nvlymEptd           | 2021-05-24 | et | EUR | TRUE |\n",
       "| 00XM-GY | iueS iTtee EdgocHm md er -tamEdys SdiFetgeCWiDoymTdeH ise riL odUedilR | 2021-05-24 | et | EUR | TRUE |\n",
       "| 00XN-GY |  sse deEddti cUyiH eoLtdEdlmTu yeTroiitDHeaeeSdW o  e i-mFiCgSdRgmrime | 2021-05-24 | et | EUR | TRUE |\n",
       "\n"
      ],
      "text/plain": [
       "  symbol \n",
       "1 00XJ-GY\n",
       "2 00XK-GY\n",
       "3 00XL-GY\n",
       "4 00XM-GY\n",
       "5 00XN-GY\n",
       "  name                                                                  \n",
       "1 dsu eFidiDyeW EmgeEorSeleTUddeH- sami ite emotdiSgido i HctTCR rd yemL\n",
       "2  e te ti am ERm grm-iee iESyCdHocdiWoTdisFLis  dTreeeDeyueUiSldtgddHom\n",
       "3 eo GeCTDb T eaE-ETmHlar FbeHeg R alnsFIpE iU dtSbF nvlymEptd          \n",
       "4 iueS iTtee EdgocHm md er -tamEdys SdiFetgeCWiDoymTdeH ise riL odUedilR\n",
       "5  sse deEddti cUyiH eoLtdEdlmTu yeTroiitDHeaeeSdW o  e i-mFiCgSdRgmrime\n",
       "  date       type currency isEnabled\n",
       "1 2021-05-24 et   EUR      TRUE     \n",
       "2 2021-05-24 et   EUR      TRUE     \n",
       "3 2021-05-24 et   EUR      TRUE     \n",
       "4 2021-05-24 et   EUR      TRUE     \n",
       "5 2021-05-24 et   EUR      TRUE     "
      ]
     },
     "metadata": {},
     "output_type": "display_data"
    }
   ],
   "source": [
    "symbols_by_exchange('ETR') %>%\n",
    "    head(5) %>%\n",
    "    dplyr::select(symbol,name,date,type,currency,isEnabled)"
   ]
  },
  {
   "cell_type": "code",
   "execution_count": 5,
   "metadata": {},
   "outputs": [
    {
     "data": {
      "text/html": [
       "<table class=\"dataframe\">\n",
       "<caption>A tibble: 8 × 3</caption>\n",
       "<thead>\n",
       "\t<tr><th scope=col>symbol</th><th scope=col>region</th><th scope=col>exchange</th></tr>\n",
       "\t<tr><th scope=col>&lt;chr&gt;</th><th scope=col>&lt;chr&gt;</th><th scope=col>&lt;chr&gt;</th></tr>\n",
       "</thead>\n",
       "<tbody>\n",
       "\t<tr><td>ALV-GS</td><td>DE</td><td>STU</td></tr>\n",
       "\t<tr><td>ALV-GM</td><td>DE</td><td>MUN</td></tr>\n",
       "\t<tr><td>ALV-GH</td><td>DE</td><td>HAM</td></tr>\n",
       "\t<tr><td>ALV-GD</td><td>DE</td><td>DUS</td></tr>\n",
       "\t<tr><td>ALV-GB</td><td>DE</td><td>BER</td></tr>\n",
       "\t<tr><td>ALV-GY</td><td>DE</td><td>ETR</td></tr>\n",
       "\t<tr><td>ALV-GF</td><td>DE</td><td>FRA</td></tr>\n",
       "\t<tr><td>ALV-GI</td><td>DE</td><td>HAN</td></tr>\n",
       "</tbody>\n",
       "</table>\n"
      ],
      "text/latex": [
       "A tibble: 8 × 3\n",
       "\\begin{tabular}{lll}\n",
       " symbol & region & exchange\\\\\n",
       " <chr> & <chr> & <chr>\\\\\n",
       "\\hline\n",
       "\t ALV-GS & DE & STU\\\\\n",
       "\t ALV-GM & DE & MUN\\\\\n",
       "\t ALV-GH & DE & HAM\\\\\n",
       "\t ALV-GD & DE & DUS\\\\\n",
       "\t ALV-GB & DE & BER\\\\\n",
       "\t ALV-GY & DE & ETR\\\\\n",
       "\t ALV-GF & DE & FRA\\\\\n",
       "\t ALV-GI & DE & HAN\\\\\n",
       "\\end{tabular}\n"
      ],
      "text/markdown": [
       "\n",
       "A tibble: 8 × 3\n",
       "\n",
       "| symbol &lt;chr&gt; | region &lt;chr&gt; | exchange &lt;chr&gt; |\n",
       "|---|---|---|\n",
       "| ALV-GS | DE | STU |\n",
       "| ALV-GM | DE | MUN |\n",
       "| ALV-GH | DE | HAM |\n",
       "| ALV-GD | DE | DUS |\n",
       "| ALV-GB | DE | BER |\n",
       "| ALV-GY | DE | ETR |\n",
       "| ALV-GF | DE | FRA |\n",
       "| ALV-GI | DE | HAN |\n",
       "\n"
      ],
      "text/plain": [
       "  symbol region exchange\n",
       "1 ALV-GS DE     STU     \n",
       "2 ALV-GM DE     MUN     \n",
       "3 ALV-GH DE     HAM     \n",
       "4 ALV-GD DE     DUS     \n",
       "5 ALV-GB DE     BER     \n",
       "6 ALV-GY DE     ETR     \n",
       "7 ALV-GF DE     FRA     \n",
       "8 ALV-GI DE     HAN     "
      ]
     },
     "metadata": {},
     "output_type": "display_data"
    }
   ],
   "source": [
    "symbols_by_isin('DE0008404005') %>% dplyr::filter(region=='DE')"
   ]
  },
  {
   "cell_type": "code",
   "execution_count": 6,
   "metadata": {
    "scrolled": true
   },
   "outputs": [
    {
     "data": {
      "text/html": [
       "<style>\n",
       ".list-inline {list-style: none; margin:0; padding: 0}\n",
       ".list-inline>li {display: inline-block}\n",
       ".list-inline>li:not(:last-child)::after {content: \"\\00b7\"; padding: 0 .5ex}\n",
       "</style>\n",
       "<ol class=list-inline><li>'ALV-GY'</li><li>'Allianz SE'</li><li>'leBre avOeit'</li><li>'6444'</li><li>'nunilt Les-caurnMeIi'</li><li>'aFiennc'</li><li>'aiFsnn aaccuIrn enedn'</li><li>'nudan i eA FI nym aiho staTr trPPcsrodndiiesforntsni nunad'</li></ol>\n"
      ],
      "text/latex": [
       "\\begin{enumerate*}\n",
       "\\item 'ALV-GY'\n",
       "\\item 'Allianz SE'\n",
       "\\item 'leBre avOeit'\n",
       "\\item '6444'\n",
       "\\item 'nunilt Les-caurnMeIi'\n",
       "\\item 'aFiennc'\n",
       "\\item 'aiFsnn aaccuIrn enedn'\n",
       "\\item 'nudan i eA FI nym aiho staTr trPPcsrodndiiesforntsni nunad'\n",
       "\\end{enumerate*}\n"
      ],
      "text/markdown": [
       "1. 'ALV-GY'\n",
       "2. 'Allianz SE'\n",
       "3. 'leBre avOeit'\n",
       "4. '6444'\n",
       "5. 'nunilt Les-caurnMeIi'\n",
       "6. 'aFiennc'\n",
       "7. 'aiFsnn aaccuIrn enedn'\n",
       "8. 'nudan i eA FI nym aiho staTr trPPcsrodndiiesforntsni nunad'\n",
       "\n",
       "\n"
      ],
      "text/plain": [
       "[1] \"ALV-GY\"                                                    \n",
       "[2] \"Allianz SE\"                                                \n",
       "[3] \"leBre avOeit\"                                              \n",
       "[4] \"6444\"                                                      \n",
       "[5] \"nunilt Les-caurnMeIi\"                                      \n",
       "[6] \"aFiennc\"                                                   \n",
       "[7] \"aiFsnn aaccuIrn enedn\"                                     \n",
       "[8] \"nudan i eA FI nym aiho staTr trPPcsrodndiiesforntsni nunad\""
      ]
     },
     "metadata": {},
     "output_type": "display_data"
    }
   ],
   "source": [
    "company_info('ALV-GY') %$% c(symbol,companyName, CEO, primarySicCode, tags) # and so on"
   ]
  },
  {
   "cell_type": "code",
   "execution_count": 7,
   "metadata": {},
   "outputs": [
    {
     "data": {
      "text/html": [
       "<table class=\"dataframe\">\n",
       "<caption>A tibble: 4 × 9</caption>\n",
       "<thead>\n",
       "\t<tr><th scope=col>symbol</th><th scope=col>date</th><th scope=col>open</th><th scope=col>high</th><th scope=col>low</th><th scope=col>close</th><th scope=col>aClose</th><th scope=col>fClose</th><th scope=col>volume</th></tr>\n",
       "\t<tr><th scope=col>&lt;chr&gt;</th><th scope=col>&lt;date&gt;</th><th scope=col>&lt;dbl&gt;</th><th scope=col>&lt;dbl&gt;</th><th scope=col>&lt;dbl&gt;</th><th scope=col>&lt;dbl&gt;</th><th scope=col>&lt;dbl&gt;</th><th scope=col>&lt;dbl&gt;</th><th scope=col>&lt;int&gt;</th></tr>\n",
       "</thead>\n",
       "<tbody>\n",
       "\t<tr><td>ALV-GY</td><td>2021-05-20</td><td>218.88</td><td>224.40</td><td>218.23</td><td>221.39</td><td>215.39</td><td>218.99</td><td>  787060</td></tr>\n",
       "\t<tr><td>ALV-GY</td><td>2021-05-21</td><td>225.01</td><td>219.97</td><td>221.29</td><td>220.90</td><td>218.00</td><td>219.30</td><td>  931823</td></tr>\n",
       "\t<tr><td>AAPL  </td><td>2021-05-20</td><td>127.30</td><td>127.87</td><td>129.70</td><td>128.07</td><td>132.16</td><td>131.73</td><td>77861222</td></tr>\n",
       "\t<tr><td>AAPL  </td><td>2021-05-21</td><td>131.26</td><td>134.00</td><td>126.26</td><td>131.30</td><td>127.54</td><td>126.28</td><td>80388809</td></tr>\n",
       "</tbody>\n",
       "</table>\n"
      ],
      "text/latex": [
       "A tibble: 4 × 9\n",
       "\\begin{tabular}{lllllllll}\n",
       " symbol & date & open & high & low & close & aClose & fClose & volume\\\\\n",
       " <chr> & <date> & <dbl> & <dbl> & <dbl> & <dbl> & <dbl> & <dbl> & <int>\\\\\n",
       "\\hline\n",
       "\t ALV-GY & 2021-05-20 & 218.88 & 224.40 & 218.23 & 221.39 & 215.39 & 218.99 &   787060\\\\\n",
       "\t ALV-GY & 2021-05-21 & 225.01 & 219.97 & 221.29 & 220.90 & 218.00 & 219.30 &   931823\\\\\n",
       "\t AAPL   & 2021-05-20 & 127.30 & 127.87 & 129.70 & 128.07 & 132.16 & 131.73 & 77861222\\\\\n",
       "\t AAPL   & 2021-05-21 & 131.26 & 134.00 & 126.26 & 131.30 & 127.54 & 126.28 & 80388809\\\\\n",
       "\\end{tabular}\n"
      ],
      "text/markdown": [
       "\n",
       "A tibble: 4 × 9\n",
       "\n",
       "| symbol &lt;chr&gt; | date &lt;date&gt; | open &lt;dbl&gt; | high &lt;dbl&gt; | low &lt;dbl&gt; | close &lt;dbl&gt; | aClose &lt;dbl&gt; | fClose &lt;dbl&gt; | volume &lt;int&gt; |\n",
       "|---|---|---|---|---|---|---|---|---|\n",
       "| ALV-GY | 2021-05-20 | 218.88 | 224.40 | 218.23 | 221.39 | 215.39 | 218.99 |   787060 |\n",
       "| ALV-GY | 2021-05-21 | 225.01 | 219.97 | 221.29 | 220.90 | 218.00 | 219.30 |   931823 |\n",
       "| AAPL   | 2021-05-20 | 127.30 | 127.87 | 129.70 | 128.07 | 132.16 | 131.73 | 77861222 |\n",
       "| AAPL   | 2021-05-21 | 131.26 | 134.00 | 126.26 | 131.30 | 127.54 | 126.28 | 80388809 |\n",
       "\n"
      ],
      "text/plain": [
       "  symbol date       open   high   low    close  aClose fClose volume  \n",
       "1 ALV-GY 2021-05-20 218.88 224.40 218.23 221.39 215.39 218.99   787060\n",
       "2 ALV-GY 2021-05-21 225.01 219.97 221.29 220.90 218.00 219.30   931823\n",
       "3 AAPL   2021-05-20 127.30 127.87 129.70 128.07 132.16 131.73 77861222\n",
       "4 AAPL   2021-05-21 131.26 134.00 126.26 131.30 127.54 126.28 80388809"
      ]
     },
     "metadata": {},
     "output_type": "display_data"
    }
   ],
   "source": [
    "prices(symbols = c('ALV-GY','AAPL'), start_date = '2021-05-20')"
   ]
  },
  {
   "cell_type": "markdown",
   "metadata": {},
   "source": [
    "## How to extract dividend / split data?\n",
    "\n",
    "NB: The sandbox data is not sufficient to extract dividend / split information, must use production data from file."
   ]
  },
  {
   "cell_type": "code",
   "execution_count": 11,
   "metadata": {},
   "outputs": [
    {
     "data": {
      "text/html": [
       "<table class=\"dataframe\">\n",
       "<caption>A tibble: 6 × 9</caption>\n",
       "<thead>\n",
       "\t<tr><th scope=col>symbol</th><th scope=col>date</th><th scope=col>open</th><th scope=col>high</th><th scope=col>low</th><th scope=col>close</th><th scope=col>aClose</th><th scope=col>fClose</th><th scope=col>volume</th></tr>\n",
       "\t<tr><th scope=col>&lt;chr&gt;</th><th scope=col>&lt;date&gt;</th><th scope=col>&lt;dbl&gt;</th><th scope=col>&lt;dbl&gt;</th><th scope=col>&lt;dbl&gt;</th><th scope=col>&lt;dbl&gt;</th><th scope=col>&lt;dbl&gt;</th><th scope=col>&lt;dbl&gt;</th><th scope=col>&lt;dbl&gt;</th></tr>\n",
       "</thead>\n",
       "<tbody>\n",
       "\t<tr><td>ALV-GY</td><td>2021-04-29</td><td>219.05</td><td>219.30</td><td>215.40</td><td>216.45</td><td>216.45</td><td>207.0689</td><td> 917451</td></tr>\n",
       "\t<tr><td>ALV-GY</td><td>2021-04-30</td><td>217.00</td><td>218.20</td><td>216.40</td><td>216.40</td><td>216.40</td><td>207.0210</td><td>1010428</td></tr>\n",
       "\t<tr><td>ALV-GY</td><td>2021-05-03</td><td>217.50</td><td>220.00</td><td>217.15</td><td>219.90</td><td>219.90</td><td>210.3693</td><td> 888333</td></tr>\n",
       "\t<tr><td>ALV-GY</td><td>2021-05-04</td><td>220.00</td><td>221.25</td><td>216.10</td><td>216.50</td><td>216.50</td><td>207.1167</td><td>1401953</td></tr>\n",
       "\t<tr><td>ALV-GY</td><td>2021-05-05</td><td>218.00</td><td>221.50</td><td>217.45</td><td>221.50</td><td>221.50</td><td>211.9000</td><td>1516255</td></tr>\n",
       "\t<tr><td>ALV-GY</td><td>2021-05-06</td><td>212.15</td><td>215.90</td><td>212.00</td><td>212.70</td><td>212.70</td><td>212.7000</td><td>1357731</td></tr>\n",
       "</tbody>\n",
       "</table>\n"
      ],
      "text/latex": [
       "A tibble: 6 × 9\n",
       "\\begin{tabular}{lllllllll}\n",
       " symbol & date & open & high & low & close & aClose & fClose & volume\\\\\n",
       " <chr> & <date> & <dbl> & <dbl> & <dbl> & <dbl> & <dbl> & <dbl> & <dbl>\\\\\n",
       "\\hline\n",
       "\t ALV-GY & 2021-04-29 & 219.05 & 219.30 & 215.40 & 216.45 & 216.45 & 207.0689 &  917451\\\\\n",
       "\t ALV-GY & 2021-04-30 & 217.00 & 218.20 & 216.40 & 216.40 & 216.40 & 207.0210 & 1010428\\\\\n",
       "\t ALV-GY & 2021-05-03 & 217.50 & 220.00 & 217.15 & 219.90 & 219.90 & 210.3693 &  888333\\\\\n",
       "\t ALV-GY & 2021-05-04 & 220.00 & 221.25 & 216.10 & 216.50 & 216.50 & 207.1167 & 1401953\\\\\n",
       "\t ALV-GY & 2021-05-05 & 218.00 & 221.50 & 217.45 & 221.50 & 221.50 & 211.9000 & 1516255\\\\\n",
       "\t ALV-GY & 2021-05-06 & 212.15 & 215.90 & 212.00 & 212.70 & 212.70 & 212.7000 & 1357731\\\\\n",
       "\\end{tabular}\n"
      ],
      "text/markdown": [
       "\n",
       "A tibble: 6 × 9\n",
       "\n",
       "| symbol &lt;chr&gt; | date &lt;date&gt; | open &lt;dbl&gt; | high &lt;dbl&gt; | low &lt;dbl&gt; | close &lt;dbl&gt; | aClose &lt;dbl&gt; | fClose &lt;dbl&gt; | volume &lt;dbl&gt; |\n",
       "|---|---|---|---|---|---|---|---|---|\n",
       "| ALV-GY | 2021-04-29 | 219.05 | 219.30 | 215.40 | 216.45 | 216.45 | 207.0689 |  917451 |\n",
       "| ALV-GY | 2021-04-30 | 217.00 | 218.20 | 216.40 | 216.40 | 216.40 | 207.0210 | 1010428 |\n",
       "| ALV-GY | 2021-05-03 | 217.50 | 220.00 | 217.15 | 219.90 | 219.90 | 210.3693 |  888333 |\n",
       "| ALV-GY | 2021-05-04 | 220.00 | 221.25 | 216.10 | 216.50 | 216.50 | 207.1167 | 1401953 |\n",
       "| ALV-GY | 2021-05-05 | 218.00 | 221.50 | 217.45 | 221.50 | 221.50 | 211.9000 | 1516255 |\n",
       "| ALV-GY | 2021-05-06 | 212.15 | 215.90 | 212.00 | 212.70 | 212.70 | 212.7000 | 1357731 |\n",
       "\n"
      ],
      "text/plain": [
       "  symbol date       open   high   low    close  aClose fClose   volume \n",
       "1 ALV-GY 2021-04-29 219.05 219.30 215.40 216.45 216.45 207.0689  917451\n",
       "2 ALV-GY 2021-04-30 217.00 218.20 216.40 216.40 216.40 207.0210 1010428\n",
       "3 ALV-GY 2021-05-03 217.50 220.00 217.15 219.90 219.90 210.3693  888333\n",
       "4 ALV-GY 2021-05-04 220.00 221.25 216.10 216.50 216.50 207.1167 1401953\n",
       "5 ALV-GY 2021-05-05 218.00 221.50 217.45 221.50 221.50 211.9000 1516255\n",
       "6 ALV-GY 2021-05-06 212.15 215.90 212.00 212.70 212.70 212.7000 1357731"
      ]
     },
     "metadata": {},
     "output_type": "display_data"
    }
   ],
   "source": [
    "history <- suppressMessages(readr::read_csv(\"../data/corporate_action_dummy.csv\"))\n",
    "tail(history)"
   ]
  },
  {
   "cell_type": "code",
   "execution_count": 12,
   "metadata": {
    "scrolled": true
   },
   "outputs": [
    {
     "data": {
      "text/html": [
       "<table class=\"dataframe\">\n",
       "<caption>A tibble: 4 × 5</caption>\n",
       "<thead>\n",
       "\t<tr><th scope=col>symbol</th><th scope=col>date</th><th scope=col>close</th><th scope=col>split_factor</th><th scope=col>dividend</th></tr>\n",
       "\t<tr><th scope=col>&lt;chr&gt;</th><th scope=col>&lt;date&gt;</th><th scope=col>&lt;dbl&gt;</th><th scope=col>&lt;dbl&gt;</th><th scope=col>&lt;dbl&gt;</th></tr>\n",
       "</thead>\n",
       "<tbody>\n",
       "\t<tr><td>ALV-GY</td><td>2018-05-09</td><td>198.54</td><td>1</td><td>8.0</td></tr>\n",
       "\t<tr><td>ALV-GY</td><td>2019-05-08</td><td>209.00</td><td>1</td><td>9.0</td></tr>\n",
       "\t<tr><td>ALV-GY</td><td>2020-05-06</td><td>161.42</td><td>1</td><td>9.6</td></tr>\n",
       "\t<tr><td>ALV-GY</td><td>2021-05-05</td><td>221.50</td><td>1</td><td>9.6</td></tr>\n",
       "</tbody>\n",
       "</table>\n"
      ],
      "text/latex": [
       "A tibble: 4 × 5\n",
       "\\begin{tabular}{lllll}\n",
       " symbol & date & close & split\\_factor & dividend\\\\\n",
       " <chr> & <date> & <dbl> & <dbl> & <dbl>\\\\\n",
       "\\hline\n",
       "\t ALV-GY & 2018-05-09 & 198.54 & 1 & 8.0\\\\\n",
       "\t ALV-GY & 2019-05-08 & 209.00 & 1 & 9.0\\\\\n",
       "\t ALV-GY & 2020-05-06 & 161.42 & 1 & 9.6\\\\\n",
       "\t ALV-GY & 2021-05-05 & 221.50 & 1 & 9.6\\\\\n",
       "\\end{tabular}\n"
      ],
      "text/markdown": [
       "\n",
       "A tibble: 4 × 5\n",
       "\n",
       "| symbol &lt;chr&gt; | date &lt;date&gt; | close &lt;dbl&gt; | split_factor &lt;dbl&gt; | dividend &lt;dbl&gt; |\n",
       "|---|---|---|---|---|\n",
       "| ALV-GY | 2018-05-09 | 198.54 | 1 | 8.0 |\n",
       "| ALV-GY | 2019-05-08 | 209.00 | 1 | 9.0 |\n",
       "| ALV-GY | 2020-05-06 | 161.42 | 1 | 9.6 |\n",
       "| ALV-GY | 2021-05-05 | 221.50 | 1 | 9.6 |\n",
       "\n"
      ],
      "text/plain": [
       "  symbol date       close  split_factor dividend\n",
       "1 ALV-GY 2018-05-09 198.54 1            8.0     \n",
       "2 ALV-GY 2019-05-08 209.00 1            9.0     \n",
       "3 ALV-GY 2020-05-06 161.42 1            9.6     \n",
       "4 ALV-GY 2021-05-05 221.50 1            9.6     "
      ]
     },
     "metadata": {},
     "output_type": "display_data"
    }
   ],
   "source": [
    "history %>%  iexcloudr::extract_corporate_actions()"
   ]
  },
  {
   "cell_type": "markdown",
   "metadata": {},
   "source": [
    "## `R` package `depotr`\n",
    "\n",
    "Provides access to the depot database backend"
   ]
  },
  {
   "cell_type": "code",
   "execution_count": 13,
   "metadata": {
    "scrolled": true
   },
   "outputs": [
    {
     "name": "stderr",
     "output_type": "stream",
     "text": [
      "depotr: Set backend with depotr::initDB()\n",
      "        Set user with depotr::authenticate()\n",
      "\n"
     ]
    }
   ],
   "source": [
    "suppressWarnings(library(depotr))"
   ]
  },
  {
   "cell_type": "code",
   "execution_count": 14,
   "metadata": {},
   "outputs": [],
   "source": [
    "depotr::initDB(host=\"localhost\",\n",
    "               port=3399,\n",
    "               user=Sys.getenv('DEPOT_ADMINUSER'),\n",
    "               pass=Sys.getenv('DEPOT_ADMINPASS'),\n",
    "               dbname=Sys.getenv('DEPOT_DBNAME'))"
   ]
  },
  {
   "cell_type": "markdown",
   "metadata": {},
   "source": [
    "## Setting the stage with a new user and their depot"
   ]
  },
  {
   "cell_type": "code",
   "execution_count": 15,
   "metadata": {},
   "outputs": [],
   "source": [
    "add_user(username = 'matthias',password='my secret')"
   ]
  },
  {
   "cell_type": "code",
   "execution_count": 16,
   "metadata": {},
   "outputs": [],
   "source": [
    "add_depot(username = 'matthias', broker = 'Broker Brothers', external_id = 'BB 1213', ccy='EUR')"
   ]
  },
  {
   "cell_type": "code",
   "execution_count": 17,
   "metadata": {},
   "outputs": [],
   "source": [
    "add_depot(username = 'matthias', broker = 'Sparkasse', external_id = '990012132', ccy='EUR')"
   ]
  },
  {
   "cell_type": "code",
   "execution_count": 18,
   "metadata": {},
   "outputs": [],
   "source": [
    "add_instrument('DE0008404005','Allianz SE','EUR')\n",
    "add_instrument('DE0007164600','SAP','EUR')\n",
    "add_instrument('DE0007664039','Volkswagen Vz.','EUR')"
   ]
  },
  {
   "cell_type": "markdown",
   "metadata": {},
   "source": [
    "Now let's trade a couple of times:"
   ]
  },
  {
   "cell_type": "code",
   "execution_count": 19,
   "metadata": {},
   "outputs": [
    {
     "ename": "ERROR",
     "evalue": "Error: Bad user. [1644]\n",
     "output_type": "error",
     "traceback": [
      "Error: Bad user. [1644]\nTraceback:\n",
      "1. depotr::book_ticket(broker = \"Broker Brothers\", external_id = \"BB 1213\", \n .     valuedate = \"2021-05-12\", isin = \"DE0008404005\", trade = list(qty = 100, \n .         prc = 220.12, ccy = \"EUR\"), payment = list(list(type = \"fee\", \n .         amount = 10, ccy = \"EUR\"), list(type = \"commission\", \n .         amount = 4, ccy = \"EUR\")))",
      "2. p %>% sprintf(\"SELECT is_valid_json_ticket_verbose('%s');\", .) %>% \n .     exec_wrapper(authenticate = TRUE)   # at line 136-137 of file C:/Users/Kermit/Nextcloud/DEV/R/depotr/R/functions.R",
      "3. exec_wrapper(., authenticate = TRUE)",
      "4. RMariaDB::dbExecute(con$connection(), sql)   # at line 160 of file C:/Users/Kermit/Nextcloud/DEV/R/depotr/R/functions.R",
      "5. RMariaDB::dbExecute(con$connection(), sql)",
      "6. dbSendStatement(conn, statement, ...)",
      "7. dbSendStatement(conn, statement, ...)",
      "8. .local(conn, statement, ...)",
      "9. dbSend(conn, statement, params, is_statement = TRUE)",
      "10. new(\"MariaDBResult\", sql = statement, ptr = result_create(conn@ptr, \n  .     statement, is_statement), bigint = conn@bigint)",
      "11. initialize(value, ...)",
      "12. initialize(value, ...)",
      "13. result_create(conn@ptr, statement, is_statement)"
     ]
    }
   ],
   "source": [
    "depotr::book_ticket(broker      = 'Broker Brothers',\n",
    "                    external_id = 'BB 1213',\n",
    "                    valuedate   = '2021-05-12',\n",
    "                    isin        = 'DE0008404005',\n",
    "                    trade       = list(qty=100,prc=220.12,ccy='EUR'),\n",
    "                    payment     = list(list(type='fee',amount=10,ccy='EUR'),\n",
    "                                       list(type='commission',amount=4,ccy='EUR')))"
   ]
  },
  {
   "cell_type": "markdown",
   "metadata": {},
   "source": [
    "```\n",
    "   Bad user\n",
    "```\n",
    "Well... we forgot to authenticate!"
   ]
  },
  {
   "cell_type": "code",
   "execution_count": 20,
   "metadata": {},
   "outputs": [],
   "source": [
    "authenticate('matthias','my secret')"
   ]
  },
  {
   "cell_type": "code",
   "execution_count": 21,
   "metadata": {},
   "outputs": [],
   "source": [
    "depotr::book_ticket(broker      = 'Broker Brothers',\n",
    "                    external_id = 'BB 1213',\n",
    "                    valuedate   = '2021-05-12',\n",
    "                    isin        = 'DE0000000000',\n",
    "                    trade       = list(qty=100,prc=220.12,ccy='EUR'),\n",
    "                    payment     = list(list(type='fee',amount=10,ccy='EUR'),\n",
    "                                       list(type='commission',amount=4,ccy='EUR')))"
   ]
  },
  {
   "cell_type": "markdown",
   "metadata": {},
   "source": [
    "Voilà: No error message! Let's buy some more and then we sell half of the position at a juice pnl:"
   ]
  },
  {
   "cell_type": "code",
   "execution_count": 22,
   "metadata": {},
   "outputs": [],
   "source": [
    "depotr::book_ticket(broker      = 'Broker Brothers',\n",
    "                    external_id = 'BB 1213',\n",
    "                    valuedate   = '2021-05-13',\n",
    "                    isin        = 'DE0000000000',\n",
    "                    trade       = list(qty=200,prc=240.12,ccy='EUR'),\n",
    "                    payment     = list(list(type='fee',amount=10,ccy='EUR'),\n",
    "                                       list(type='commission',amount=4,ccy='EUR')))"
   ]
  },
  {
   "cell_type": "code",
   "execution_count": 23,
   "metadata": {},
   "outputs": [],
   "source": [
    "depotr::book_ticket(broker      = 'Broker Brothers',\n",
    "                    external_id = 'BB 1213',\n",
    "                    valuedate   = '2021-05-17',\n",
    "                    isin        = 'DE0000000000',\n",
    "                    trade       = list(qty=-150,prc=250.12,ccy='EUR'),\n",
    "                    payment     = list(list(type='fee',amount=10,ccy='EUR'),\n",
    "                                       list(type='commission',amount=4,ccy='EUR'),\n",
    "                                       list(type='tax',amount=100, ccy='EUR')))"
   ]
  },
  {
   "cell_type": "markdown",
   "metadata": {},
   "source": [
    "And for the fun of it, we also buy something into the second depot:"
   ]
  },
  {
   "cell_type": "code",
   "execution_count": 24,
   "metadata": {},
   "outputs": [],
   "source": [
    "depotr::book_ticket(broker      = 'Sparkasse',\n",
    "                    external_id = '990012132',\n",
    "                    valuedate   = '2021-05-18',\n",
    "                    isin        = 'US0000000000',\n",
    "                    trade       = list(qty=50,prc=100.00,ccy='USD'))"
   ]
  },
  {
   "cell_type": "markdown",
   "metadata": {},
   "source": [
    "Let's see how that affected our trade list and position:"
   ]
  },
  {
   "cell_type": "code",
   "execution_count": 25,
   "metadata": {},
   "outputs": [
    {
     "data": {
      "text/html": [
       "<table class=\"dataframe\">\n",
       "<caption>A tibble: 4 × 10</caption>\n",
       "<thead>\n",
       "\t<tr><th scope=col>depot_owner</th><th scope=col>depot_broker</th><th scope=col>depot_external_id</th><th scope=col>depot_ccy</th><th scope=col>isin</th><th scope=col>ins_ccy</th><th scope=col>pos_valuedate</th><th scope=col>pos_qty</th><th scope=col>pos_vol</th><th scope=col>pos_ccy</th></tr>\n",
       "\t<tr><th scope=col>&lt;chr&gt;</th><th scope=col>&lt;chr&gt;</th><th scope=col>&lt;chr&gt;</th><th scope=col>&lt;chr&gt;</th><th scope=col>&lt;chr&gt;</th><th scope=col>&lt;chr&gt;</th><th scope=col>&lt;date&gt;</th><th scope=col>&lt;dbl&gt;</th><th scope=col>&lt;dbl&gt;</th><th scope=col>&lt;chr&gt;</th></tr>\n",
       "</thead>\n",
       "<tbody>\n",
       "\t<tr><td>matthias</td><td>Broker Brothers</td><td>BB 1213  </td><td>EUR</td><td>DE0000000000</td><td>EUR</td><td>2021-05-12</td><td>100</td><td>22012</td><td>EUR</td></tr>\n",
       "\t<tr><td>matthias</td><td>Broker Brothers</td><td>BB 1213  </td><td>EUR</td><td>DE0000000000</td><td>EUR</td><td>2021-05-13</td><td>300</td><td>70036</td><td>EUR</td></tr>\n",
       "\t<tr><td>matthias</td><td>Broker Brothers</td><td>BB 1213  </td><td>EUR</td><td>DE0000000000</td><td>EUR</td><td>2021-05-17</td><td>150</td><td>36018</td><td>EUR</td></tr>\n",
       "\t<tr><td>matthias</td><td>Sparkasse      </td><td>990012132</td><td>EUR</td><td>US0000000000</td><td>USD</td><td>2021-05-18</td><td> 50</td><td> 5000</td><td>USD</td></tr>\n",
       "</tbody>\n",
       "</table>\n"
      ],
      "text/latex": [
       "A tibble: 4 × 10\n",
       "\\begin{tabular}{llllllllll}\n",
       " depot\\_owner & depot\\_broker & depot\\_external\\_id & depot\\_ccy & isin & ins\\_ccy & pos\\_valuedate & pos\\_qty & pos\\_vol & pos\\_ccy\\\\\n",
       " <chr> & <chr> & <chr> & <chr> & <chr> & <chr> & <date> & <dbl> & <dbl> & <chr>\\\\\n",
       "\\hline\n",
       "\t matthias & Broker Brothers & BB 1213   & EUR & DE0000000000 & EUR & 2021-05-12 & 100 & 22012 & EUR\\\\\n",
       "\t matthias & Broker Brothers & BB 1213   & EUR & DE0000000000 & EUR & 2021-05-13 & 300 & 70036 & EUR\\\\\n",
       "\t matthias & Broker Brothers & BB 1213   & EUR & DE0000000000 & EUR & 2021-05-17 & 150 & 36018 & EUR\\\\\n",
       "\t matthias & Sparkasse       & 990012132 & EUR & US0000000000 & USD & 2021-05-18 &  50 &  5000 & USD\\\\\n",
       "\\end{tabular}\n"
      ],
      "text/markdown": [
       "\n",
       "A tibble: 4 × 10\n",
       "\n",
       "| depot_owner &lt;chr&gt; | depot_broker &lt;chr&gt; | depot_external_id &lt;chr&gt; | depot_ccy &lt;chr&gt; | isin &lt;chr&gt; | ins_ccy &lt;chr&gt; | pos_valuedate &lt;date&gt; | pos_qty &lt;dbl&gt; | pos_vol &lt;dbl&gt; | pos_ccy &lt;chr&gt; |\n",
       "|---|---|---|---|---|---|---|---|---|---|\n",
       "| matthias | Broker Brothers | BB 1213   | EUR | DE0000000000 | EUR | 2021-05-12 | 100 | 22012 | EUR |\n",
       "| matthias | Broker Brothers | BB 1213   | EUR | DE0000000000 | EUR | 2021-05-13 | 300 | 70036 | EUR |\n",
       "| matthias | Broker Brothers | BB 1213   | EUR | DE0000000000 | EUR | 2021-05-17 | 150 | 36018 | EUR |\n",
       "| matthias | Sparkasse       | 990012132 | EUR | US0000000000 | USD | 2021-05-18 |  50 |  5000 | USD |\n",
       "\n"
      ],
      "text/plain": [
       "  depot_owner depot_broker    depot_external_id depot_ccy isin         ins_ccy\n",
       "1 matthias    Broker Brothers BB 1213           EUR       DE0000000000 EUR    \n",
       "2 matthias    Broker Brothers BB 1213           EUR       DE0000000000 EUR    \n",
       "3 matthias    Broker Brothers BB 1213           EUR       DE0000000000 EUR    \n",
       "4 matthias    Sparkasse       990012132         EUR       US0000000000 USD    \n",
       "  pos_valuedate pos_qty pos_vol pos_ccy\n",
       "1 2021-05-12    100     22012   EUR    \n",
       "2 2021-05-13    300     70036   EUR    \n",
       "3 2021-05-17    150     36018   EUR    \n",
       "4 2021-05-18     50      5000   USD    "
      ]
     },
     "metadata": {},
     "output_type": "display_data"
    }
   ],
   "source": [
    "position()"
   ]
  },
  {
   "cell_type": "code",
   "execution_count": 26,
   "metadata": {},
   "outputs": [
    {
     "data": {
      "text/html": [
       "<table class=\"dataframe\">\n",
       "<caption>A tibble: 4 × 11</caption>\n",
       "<thead>\n",
       "\t<tr><th scope=col>depot_owner</th><th scope=col>depot_broker</th><th scope=col>depot_external_id</th><th scope=col>depot_ccy</th><th scope=col>isin</th><th scope=col>ins_ccy</th><th scope=col>trd_valuedate</th><th scope=col>trd_qty</th><th scope=col>trd_prc</th><th scope=col>trd_vol</th><th scope=col>trd_ccy</th></tr>\n",
       "\t<tr><th scope=col>&lt;chr&gt;</th><th scope=col>&lt;chr&gt;</th><th scope=col>&lt;chr&gt;</th><th scope=col>&lt;chr&gt;</th><th scope=col>&lt;chr&gt;</th><th scope=col>&lt;chr&gt;</th><th scope=col>&lt;date&gt;</th><th scope=col>&lt;dbl&gt;</th><th scope=col>&lt;dbl&gt;</th><th scope=col>&lt;dbl&gt;</th><th scope=col>&lt;chr&gt;</th></tr>\n",
       "</thead>\n",
       "<tbody>\n",
       "\t<tr><td>matthias</td><td>Broker Brothers</td><td>BB 1213  </td><td>EUR</td><td>DE0000000000</td><td>EUR</td><td>2021-05-12</td><td> 100</td><td>220.12</td><td> 22012</td><td>EUR</td></tr>\n",
       "\t<tr><td>matthias</td><td>Broker Brothers</td><td>BB 1213  </td><td>EUR</td><td>DE0000000000</td><td>EUR</td><td>2021-05-13</td><td> 200</td><td>240.12</td><td> 48024</td><td>EUR</td></tr>\n",
       "\t<tr><td>matthias</td><td>Broker Brothers</td><td>BB 1213  </td><td>EUR</td><td>DE0000000000</td><td>EUR</td><td>2021-05-17</td><td>-150</td><td>250.12</td><td>-37518</td><td>EUR</td></tr>\n",
       "\t<tr><td>matthias</td><td>Sparkasse      </td><td>990012132</td><td>EUR</td><td>US0000000000</td><td>USD</td><td>2021-05-18</td><td>  50</td><td>100.00</td><td>  5000</td><td>USD</td></tr>\n",
       "</tbody>\n",
       "</table>\n"
      ],
      "text/latex": [
       "A tibble: 4 × 11\n",
       "\\begin{tabular}{lllllllllll}\n",
       " depot\\_owner & depot\\_broker & depot\\_external\\_id & depot\\_ccy & isin & ins\\_ccy & trd\\_valuedate & trd\\_qty & trd\\_prc & trd\\_vol & trd\\_ccy\\\\\n",
       " <chr> & <chr> & <chr> & <chr> & <chr> & <chr> & <date> & <dbl> & <dbl> & <dbl> & <chr>\\\\\n",
       "\\hline\n",
       "\t matthias & Broker Brothers & BB 1213   & EUR & DE0000000000 & EUR & 2021-05-12 &  100 & 220.12 &  22012 & EUR\\\\\n",
       "\t matthias & Broker Brothers & BB 1213   & EUR & DE0000000000 & EUR & 2021-05-13 &  200 & 240.12 &  48024 & EUR\\\\\n",
       "\t matthias & Broker Brothers & BB 1213   & EUR & DE0000000000 & EUR & 2021-05-17 & -150 & 250.12 & -37518 & EUR\\\\\n",
       "\t matthias & Sparkasse       & 990012132 & EUR & US0000000000 & USD & 2021-05-18 &   50 & 100.00 &   5000 & USD\\\\\n",
       "\\end{tabular}\n"
      ],
      "text/markdown": [
       "\n",
       "A tibble: 4 × 11\n",
       "\n",
       "| depot_owner &lt;chr&gt; | depot_broker &lt;chr&gt; | depot_external_id &lt;chr&gt; | depot_ccy &lt;chr&gt; | isin &lt;chr&gt; | ins_ccy &lt;chr&gt; | trd_valuedate &lt;date&gt; | trd_qty &lt;dbl&gt; | trd_prc &lt;dbl&gt; | trd_vol &lt;dbl&gt; | trd_ccy &lt;chr&gt; |\n",
       "|---|---|---|---|---|---|---|---|---|---|---|\n",
       "| matthias | Broker Brothers | BB 1213   | EUR | DE0000000000 | EUR | 2021-05-12 |  100 | 220.12 |  22012 | EUR |\n",
       "| matthias | Broker Brothers | BB 1213   | EUR | DE0000000000 | EUR | 2021-05-13 |  200 | 240.12 |  48024 | EUR |\n",
       "| matthias | Broker Brothers | BB 1213   | EUR | DE0000000000 | EUR | 2021-05-17 | -150 | 250.12 | -37518 | EUR |\n",
       "| matthias | Sparkasse       | 990012132 | EUR | US0000000000 | USD | 2021-05-18 |   50 | 100.00 |   5000 | USD |\n",
       "\n"
      ],
      "text/plain": [
       "  depot_owner depot_broker    depot_external_id depot_ccy isin         ins_ccy\n",
       "1 matthias    Broker Brothers BB 1213           EUR       DE0000000000 EUR    \n",
       "2 matthias    Broker Brothers BB 1213           EUR       DE0000000000 EUR    \n",
       "3 matthias    Broker Brothers BB 1213           EUR       DE0000000000 EUR    \n",
       "4 matthias    Sparkasse       990012132         EUR       US0000000000 USD    \n",
       "  trd_valuedate trd_qty trd_prc trd_vol trd_ccy\n",
       "1 2021-05-12     100    220.12   22012  EUR    \n",
       "2 2021-05-13     200    240.12   48024  EUR    \n",
       "3 2021-05-17    -150    250.12  -37518  EUR    \n",
       "4 2021-05-18      50    100.00    5000  USD    "
      ]
     },
     "metadata": {},
     "output_type": "display_data"
    }
   ],
   "source": [
    "trades()"
   ]
  },
  {
   "cell_type": "markdown",
   "metadata": {},
   "source": [
    "Now, let's add another user and grant them reading rights on one of Matthias' portfolio:"
   ]
  },
  {
   "cell_type": "code",
   "execution_count": 27,
   "metadata": {},
   "outputs": [],
   "source": [
    "add_user('friedrich','friedpass')"
   ]
  },
  {
   "cell_type": "markdown",
   "metadata": {},
   "source": [
    "Remember that `'matthias'` is the currently authenticated user:"
   ]
  },
  {
   "cell_type": "code",
   "execution_count": 28,
   "metadata": {},
   "outputs": [],
   "source": [
    "grant_depot_permission('friedrich','Sparkasse','990012132','read')"
   ]
  },
  {
   "cell_type": "markdown",
   "metadata": {},
   "source": [
    "We can now authenticate as `'friedrich'` and have a look at their own/granted depots:"
   ]
  },
  {
   "cell_type": "code",
   "execution_count": 29,
   "metadata": {},
   "outputs": [],
   "source": [
    "authenticate('friedrich','friedpass')"
   ]
  },
  {
   "cell_type": "code",
   "execution_count": 30,
   "metadata": {},
   "outputs": [
    {
     "data": {
      "text/html": [
       "<table class=\"dataframe\">\n",
       "<caption>A tibble: 1 × 10</caption>\n",
       "<thead>\n",
       "\t<tr><th scope=col>depot_owner</th><th scope=col>depot_broker</th><th scope=col>depot_external_id</th><th scope=col>depot_ccy</th><th scope=col>isin</th><th scope=col>ins_ccy</th><th scope=col>pos_valuedate</th><th scope=col>pos_qty</th><th scope=col>pos_vol</th><th scope=col>pos_ccy</th></tr>\n",
       "\t<tr><th scope=col>&lt;chr&gt;</th><th scope=col>&lt;chr&gt;</th><th scope=col>&lt;chr&gt;</th><th scope=col>&lt;chr&gt;</th><th scope=col>&lt;chr&gt;</th><th scope=col>&lt;chr&gt;</th><th scope=col>&lt;date&gt;</th><th scope=col>&lt;dbl&gt;</th><th scope=col>&lt;dbl&gt;</th><th scope=col>&lt;chr&gt;</th></tr>\n",
       "</thead>\n",
       "<tbody>\n",
       "\t<tr><td>matthias</td><td>Sparkasse</td><td>990012132</td><td>EUR</td><td>US0000000000</td><td>USD</td><td>2021-05-18</td><td>50</td><td>5000</td><td>USD</td></tr>\n",
       "</tbody>\n",
       "</table>\n"
      ],
      "text/latex": [
       "A tibble: 1 × 10\n",
       "\\begin{tabular}{llllllllll}\n",
       " depot\\_owner & depot\\_broker & depot\\_external\\_id & depot\\_ccy & isin & ins\\_ccy & pos\\_valuedate & pos\\_qty & pos\\_vol & pos\\_ccy\\\\\n",
       " <chr> & <chr> & <chr> & <chr> & <chr> & <chr> & <date> & <dbl> & <dbl> & <chr>\\\\\n",
       "\\hline\n",
       "\t matthias & Sparkasse & 990012132 & EUR & US0000000000 & USD & 2021-05-18 & 50 & 5000 & USD\\\\\n",
       "\\end{tabular}\n"
      ],
      "text/markdown": [
       "\n",
       "A tibble: 1 × 10\n",
       "\n",
       "| depot_owner &lt;chr&gt; | depot_broker &lt;chr&gt; | depot_external_id &lt;chr&gt; | depot_ccy &lt;chr&gt; | isin &lt;chr&gt; | ins_ccy &lt;chr&gt; | pos_valuedate &lt;date&gt; | pos_qty &lt;dbl&gt; | pos_vol &lt;dbl&gt; | pos_ccy &lt;chr&gt; |\n",
       "|---|---|---|---|---|---|---|---|---|---|\n",
       "| matthias | Sparkasse | 990012132 | EUR | US0000000000 | USD | 2021-05-18 | 50 | 5000 | USD |\n",
       "\n"
      ],
      "text/plain": [
       "  depot_owner depot_broker depot_external_id depot_ccy isin         ins_ccy\n",
       "1 matthias    Sparkasse    990012132         EUR       US0000000000 USD    \n",
       "  pos_valuedate pos_qty pos_vol pos_ccy\n",
       "1 2021-05-18    50      5000    USD    "
      ]
     },
     "metadata": {},
     "output_type": "display_data"
    }
   ],
   "source": [
    "position()"
   ]
  },
  {
   "cell_type": "markdown",
   "metadata": {},
   "source": [
    "Note that with the `'view'` grant, they cannot book a trade:"
   ]
  },
  {
   "cell_type": "code",
   "execution_count": 31,
   "metadata": {},
   "outputs": [
    {
     "ename": "ERROR",
     "evalue": "Error: Depot denied. [1644]\n",
     "output_type": "error",
     "traceback": [
      "Error: Depot denied. [1644]\nTraceback:\n",
      "1. depotr::book_ticket(broker = \"Sparkasse\", external_id = \"990012132\", \n .     valuedate = \"2021-05-17\", isin = \"DE0000000000\", trade = list(qty = 10, \n .         prc = 250.12, ccy = \"EUR\"), payment = list(list(type = \"fee\", \n .         amount = 10, ccy = \"EUR\"), list(type = \"commission\", \n .         amount = 4, ccy = \"EUR\"), list(type = \"tax\", amount = 100, \n .         ccy = \"EUR\")))",
      "2. p %>% sprintf(\"CALL book_ticket('%s');\", .) %>% exec_wrapper(authenticate = TRUE)   # at line 138-139 of file C:/Users/Kermit/Nextcloud/DEV/R/depotr/R/functions.R",
      "3. exec_wrapper(., authenticate = TRUE)",
      "4. RMariaDB::dbExecute(con$connection(), sql_statement)   # at line 162 of file C:/Users/Kermit/Nextcloud/DEV/R/depotr/R/functions.R",
      "5. RMariaDB::dbExecute(con$connection(), sql_statement)",
      "6. dbSendStatement(conn, statement, ...)",
      "7. dbSendStatement(conn, statement, ...)",
      "8. .local(conn, statement, ...)",
      "9. dbSend(conn, statement, params, is_statement = TRUE)",
      "10. new(\"MariaDBResult\", sql = statement, ptr = result_create(conn@ptr, \n  .     statement, is_statement), bigint = conn@bigint)",
      "11. initialize(value, ...)",
      "12. initialize(value, ...)",
      "13. result_create(conn@ptr, statement, is_statement)"
     ]
    }
   ],
   "source": [
    "depotr::book_ticket(broker      = 'Sparkasse',\n",
    "                    external_id = '990012132',\n",
    "                    valuedate   = '2021-05-17',\n",
    "                    isin        = 'DE0000000000',\n",
    "                    trade       = list(qty=10,prc=250.12,ccy='EUR'),\n",
    "                    payment     = list(list(type='fee',amount=10,ccy='EUR'),\n",
    "                                       list(type='commission',amount=4,ccy='EUR'),\n",
    "                                       list(type='tax',amount=100, ccy='EUR')))"
   ]
  },
  {
   "cell_type": "markdown",
   "metadata": {},
   "source": [
    "### Adding markt data to the mix"
   ]
  },
  {
   "cell_type": "code",
   "execution_count": 33,
   "metadata": {},
   "outputs": [],
   "source": [
    "add_or_update_symbol('IEX','XETR','DE0008404005','EUR','ALV-GY')\n",
    "add_or_update_symbol('IEX','XETR','DE0007164600','EUR','SAP-GY')\n",
    "add_or_update_symbol('IEX','XETR','DE0007664039','EUR','VOW3-GY')"
   ]
  },
  {
   "cell_type": "code",
   "execution_count": 34,
   "metadata": {
    "scrolled": true
   },
   "outputs": [
    {
     "name": "stderr",
     "output_type": "stream",
     "text": [
      "Batch download :1/3 : ALV-GY   : 3641\n",
      "\n",
      "Batch download :2/3 : SAP-GY   : 3641\n",
      "\n",
      "Batch download :3/3 : VOW3-GY  : 3638\n",
      "\n",
      "Batch download complete.\n",
      "\n"
     ]
    }
   ],
   "source": [
    "price_insert_batch()"
   ]
  },
  {
   "cell_type": "code",
   "execution_count": 35,
   "metadata": {},
   "outputs": [
    {
     "data": {
      "text/html": [
       "<table class=\"dataframe\">\n",
       "<caption>A tibble: 1 × 10</caption>\n",
       "<thead>\n",
       "\t<tr><th scope=col>depot_owner</th><th scope=col>depot_broker</th><th scope=col>depot_external_id</th><th scope=col>depot_ccy</th><th scope=col>isin</th><th scope=col>ins_ccy</th><th scope=col>pos_valuedate</th><th scope=col>pos_qty</th><th scope=col>pos_vol</th><th scope=col>pos_ccy</th></tr>\n",
       "\t<tr><th scope=col>&lt;chr&gt;</th><th scope=col>&lt;chr&gt;</th><th scope=col>&lt;chr&gt;</th><th scope=col>&lt;chr&gt;</th><th scope=col>&lt;chr&gt;</th><th scope=col>&lt;chr&gt;</th><th scope=col>&lt;date&gt;</th><th scope=col>&lt;dbl&gt;</th><th scope=col>&lt;dbl&gt;</th><th scope=col>&lt;chr&gt;</th></tr>\n",
       "</thead>\n",
       "<tbody>\n",
       "\t<tr><td>matthias</td><td>Sparkasse</td><td>990012132</td><td>EUR</td><td>US0000000000</td><td>USD</td><td>2021-05-18</td><td>50</td><td>5000</td><td>USD</td></tr>\n",
       "</tbody>\n",
       "</table>\n"
      ],
      "text/latex": [
       "A tibble: 1 × 10\n",
       "\\begin{tabular}{llllllllll}\n",
       " depot\\_owner & depot\\_broker & depot\\_external\\_id & depot\\_ccy & isin & ins\\_ccy & pos\\_valuedate & pos\\_qty & pos\\_vol & pos\\_ccy\\\\\n",
       " <chr> & <chr> & <chr> & <chr> & <chr> & <chr> & <date> & <dbl> & <dbl> & <chr>\\\\\n",
       "\\hline\n",
       "\t matthias & Sparkasse & 990012132 & EUR & US0000000000 & USD & 2021-05-18 & 50 & 5000 & USD\\\\\n",
       "\\end{tabular}\n"
      ],
      "text/markdown": [
       "\n",
       "A tibble: 1 × 10\n",
       "\n",
       "| depot_owner &lt;chr&gt; | depot_broker &lt;chr&gt; | depot_external_id &lt;chr&gt; | depot_ccy &lt;chr&gt; | isin &lt;chr&gt; | ins_ccy &lt;chr&gt; | pos_valuedate &lt;date&gt; | pos_qty &lt;dbl&gt; | pos_vol &lt;dbl&gt; | pos_ccy &lt;chr&gt; |\n",
       "|---|---|---|---|---|---|---|---|---|---|\n",
       "| matthias | Sparkasse | 990012132 | EUR | US0000000000 | USD | 2021-05-18 | 50 | 5000 | USD |\n",
       "\n"
      ],
      "text/plain": [
       "  depot_owner depot_broker depot_external_id depot_ccy isin         ins_ccy\n",
       "1 matthias    Sparkasse    990012132         EUR       US0000000000 USD    \n",
       "  pos_valuedate pos_qty pos_vol pos_ccy\n",
       "1 2021-05-18    50      5000    USD    "
      ]
     },
     "metadata": {},
     "output_type": "display_data"
    }
   ],
   "source": [
    "position()"
   ]
  },
  {
   "cell_type": "markdown",
   "metadata": {},
   "source": [
    "## Not implemented"
   ]
  },
  {
   "cell_type": "code",
   "execution_count": 37,
   "metadata": {},
   "outputs": [
    {
     "data": {
      "text/html": [
       "<table class=\"dataframe\">\n",
       "<caption>A tibble: 3 × 3</caption>\n",
       "<thead>\n",
       "\t<tr><th scope=col>vendor</th><th scope=col>symbol</th><th scope=col>maxdate</th></tr>\n",
       "\t<tr><th scope=col>&lt;chr&gt;</th><th scope=col>&lt;chr&gt;</th><th scope=col>&lt;date&gt;</th></tr>\n",
       "</thead>\n",
       "<tbody>\n",
       "\t<tr><td>IEX</td><td>ALV-GY </td><td>2021-05-21</td></tr>\n",
       "\t<tr><td>IEX</td><td>SAP-GY </td><td>2021-05-21</td></tr>\n",
       "\t<tr><td>IEX</td><td>VOW3-GY</td><td>2021-05-21</td></tr>\n",
       "</tbody>\n",
       "</table>\n"
      ],
      "text/latex": [
       "A tibble: 3 × 3\n",
       "\\begin{tabular}{lll}\n",
       " vendor & symbol & maxdate\\\\\n",
       " <chr> & <chr> & <date>\\\\\n",
       "\\hline\n",
       "\t IEX & ALV-GY  & 2021-05-21\\\\\n",
       "\t IEX & SAP-GY  & 2021-05-21\\\\\n",
       "\t IEX & VOW3-GY & 2021-05-21\\\\\n",
       "\\end{tabular}\n"
      ],
      "text/markdown": [
       "\n",
       "A tibble: 3 × 3\n",
       "\n",
       "| vendor &lt;chr&gt; | symbol &lt;chr&gt; | maxdate &lt;date&gt; |\n",
       "|---|---|---|\n",
       "| IEX | ALV-GY  | 2021-05-21 |\n",
       "| IEX | SAP-GY  | 2021-05-21 |\n",
       "| IEX | VOW3-GY | 2021-05-21 |\n",
       "\n"
      ],
      "text/plain": [
       "  vendor symbol  maxdate   \n",
       "1 IEX    ALV-GY  2021-05-21\n",
       "2 IEX    SAP-GY  2021-05-21\n",
       "3 IEX    VOW3-GY 2021-05-21"
      ]
     },
     "metadata": {},
     "output_type": "display_data"
    }
   ],
   "source": [
    "depotr:::get_wrapper(\"SELECT * FROM v_last_symbol_data;\")"
   ]
  },
  {
   "cell_type": "code",
   "execution_count": 38,
   "metadata": {},
   "outputs": [
    {
     "data": {
      "text/html": [
       "<table class=\"dataframe\">\n",
       "<caption>A tibble: 10 × 7</caption>\n",
       "<thead>\n",
       "\t<tr><th scope=col>symid</th><th scope=col>valuedate</th><th scope=col>open</th><th scope=col>high</th><th scope=col>low</th><th scope=col>close</th><th scope=col>volume</th></tr>\n",
       "\t<tr><th scope=col>&lt;int&gt;</th><th scope=col>&lt;date&gt;</th><th scope=col>&lt;dbl&gt;</th><th scope=col>&lt;dbl&gt;</th><th scope=col>&lt;dbl&gt;</th><th scope=col>&lt;dbl&gt;</th><th scope=col>&lt;int&gt;</th></tr>\n",
       "</thead>\n",
       "<tbody>\n",
       "\t<tr><td>1</td><td>2007-01-02</td><td>158.96</td><td>160.80</td><td>159.94</td><td>161.00</td><td>1631619</td></tr>\n",
       "\t<tr><td>1</td><td>2007-01-03</td><td>161.49</td><td>164.00</td><td>157.91</td><td>159.16</td><td>2546567</td></tr>\n",
       "\t<tr><td>1</td><td>2007-01-04</td><td>162.63</td><td>163.52</td><td>159.32</td><td>161.38</td><td>3029458</td></tr>\n",
       "\t<tr><td>1</td><td>2007-01-05</td><td>164.86</td><td>160.03</td><td>163.25</td><td>160.00</td><td>3188374</td></tr>\n",
       "\t<tr><td>1</td><td>2007-01-08</td><td>159.65</td><td>161.00</td><td>162.81</td><td>164.71</td><td>2754506</td></tr>\n",
       "\t<tr><td>1</td><td>2007-01-09</td><td>157.94</td><td>161.90</td><td>157.50</td><td>161.50</td><td>3602717</td></tr>\n",
       "\t<tr><td>1</td><td>2007-01-10</td><td>162.20</td><td>159.69</td><td>153.95</td><td>156.06</td><td>4587786</td></tr>\n",
       "\t<tr><td>1</td><td>2007-01-15</td><td>157.60</td><td>162.70</td><td>160.72</td><td>162.40</td><td>1631182</td></tr>\n",
       "\t<tr><td>1</td><td>2007-01-16</td><td>161.69</td><td>158.34</td><td>161.11</td><td>158.66</td><td>2038074</td></tr>\n",
       "\t<tr><td>1</td><td>2007-01-17</td><td>158.81</td><td>156.22</td><td>158.85</td><td>161.28</td><td>2654900</td></tr>\n",
       "</tbody>\n",
       "</table>\n"
      ],
      "text/latex": [
       "A tibble: 10 × 7\n",
       "\\begin{tabular}{lllllll}\n",
       " symid & valuedate & open & high & low & close & volume\\\\\n",
       " <int> & <date> & <dbl> & <dbl> & <dbl> & <dbl> & <int>\\\\\n",
       "\\hline\n",
       "\t 1 & 2007-01-02 & 158.96 & 160.80 & 159.94 & 161.00 & 1631619\\\\\n",
       "\t 1 & 2007-01-03 & 161.49 & 164.00 & 157.91 & 159.16 & 2546567\\\\\n",
       "\t 1 & 2007-01-04 & 162.63 & 163.52 & 159.32 & 161.38 & 3029458\\\\\n",
       "\t 1 & 2007-01-05 & 164.86 & 160.03 & 163.25 & 160.00 & 3188374\\\\\n",
       "\t 1 & 2007-01-08 & 159.65 & 161.00 & 162.81 & 164.71 & 2754506\\\\\n",
       "\t 1 & 2007-01-09 & 157.94 & 161.90 & 157.50 & 161.50 & 3602717\\\\\n",
       "\t 1 & 2007-01-10 & 162.20 & 159.69 & 153.95 & 156.06 & 4587786\\\\\n",
       "\t 1 & 2007-01-15 & 157.60 & 162.70 & 160.72 & 162.40 & 1631182\\\\\n",
       "\t 1 & 2007-01-16 & 161.69 & 158.34 & 161.11 & 158.66 & 2038074\\\\\n",
       "\t 1 & 2007-01-17 & 158.81 & 156.22 & 158.85 & 161.28 & 2654900\\\\\n",
       "\\end{tabular}\n"
      ],
      "text/markdown": [
       "\n",
       "A tibble: 10 × 7\n",
       "\n",
       "| symid &lt;int&gt; | valuedate &lt;date&gt; | open &lt;dbl&gt; | high &lt;dbl&gt; | low &lt;dbl&gt; | close &lt;dbl&gt; | volume &lt;int&gt; |\n",
       "|---|---|---|---|---|---|---|\n",
       "| 1 | 2007-01-02 | 158.96 | 160.80 | 159.94 | 161.00 | 1631619 |\n",
       "| 1 | 2007-01-03 | 161.49 | 164.00 | 157.91 | 159.16 | 2546567 |\n",
       "| 1 | 2007-01-04 | 162.63 | 163.52 | 159.32 | 161.38 | 3029458 |\n",
       "| 1 | 2007-01-05 | 164.86 | 160.03 | 163.25 | 160.00 | 3188374 |\n",
       "| 1 | 2007-01-08 | 159.65 | 161.00 | 162.81 | 164.71 | 2754506 |\n",
       "| 1 | 2007-01-09 | 157.94 | 161.90 | 157.50 | 161.50 | 3602717 |\n",
       "| 1 | 2007-01-10 | 162.20 | 159.69 | 153.95 | 156.06 | 4587786 |\n",
       "| 1 | 2007-01-15 | 157.60 | 162.70 | 160.72 | 162.40 | 1631182 |\n",
       "| 1 | 2007-01-16 | 161.69 | 158.34 | 161.11 | 158.66 | 2038074 |\n",
       "| 1 | 2007-01-17 | 158.81 | 156.22 | 158.85 | 161.28 | 2654900 |\n",
       "\n"
      ],
      "text/plain": [
       "   symid valuedate  open   high   low    close  volume \n",
       "1  1     2007-01-02 158.96 160.80 159.94 161.00 1631619\n",
       "2  1     2007-01-03 161.49 164.00 157.91 159.16 2546567\n",
       "3  1     2007-01-04 162.63 163.52 159.32 161.38 3029458\n",
       "4  1     2007-01-05 164.86 160.03 163.25 160.00 3188374\n",
       "5  1     2007-01-08 159.65 161.00 162.81 164.71 2754506\n",
       "6  1     2007-01-09 157.94 161.90 157.50 161.50 3602717\n",
       "7  1     2007-01-10 162.20 159.69 153.95 156.06 4587786\n",
       "8  1     2007-01-15 157.60 162.70 160.72 162.40 1631182\n",
       "9  1     2007-01-16 161.69 158.34 161.11 158.66 2038074\n",
       "10 1     2007-01-17 158.81 156.22 158.85 161.28 2654900"
      ]
     },
     "metadata": {},
     "output_type": "display_data"
    }
   ],
   "source": [
    "depotr:::get_wrapper(\"SELECT * FROM v_price_adjusted LIMIT 10;\")"
   ]
  },
  {
   "cell_type": "code",
   "execution_count": 39,
   "metadata": {},
   "outputs": [
    {
     "data": {
      "text/html": [
       "<table class=\"dataframe\">\n",
       "<caption>A tibble: 3 × 7</caption>\n",
       "<thead>\n",
       "\t<tr><th scope=col>isin</th><th scope=col>name</th><th scope=col>ins_ccy</th><th scope=col>mic</th><th scope=col>vendor</th><th scope=col>symbol</th><th scope=col>sym_ccy</th></tr>\n",
       "\t<tr><th scope=col>&lt;chr&gt;</th><th scope=col>&lt;chr&gt;</th><th scope=col>&lt;chr&gt;</th><th scope=col>&lt;chr&gt;</th><th scope=col>&lt;chr&gt;</th><th scope=col>&lt;chr&gt;</th><th scope=col>&lt;chr&gt;</th></tr>\n",
       "</thead>\n",
       "<tbody>\n",
       "\t<tr><td>DE0007164600</td><td>SAP           </td><td>EUR</td><td>XETR</td><td>IEX</td><td>SAP-GY </td><td>EUR</td></tr>\n",
       "\t<tr><td>DE0007664039</td><td>Volkswagen Vz.</td><td>EUR</td><td>XETR</td><td>IEX</td><td>VOW3-GY</td><td>EUR</td></tr>\n",
       "\t<tr><td>DE0008404005</td><td>Allianz SE    </td><td>EUR</td><td>XETR</td><td>IEX</td><td>ALV-GY </td><td>EUR</td></tr>\n",
       "</tbody>\n",
       "</table>\n"
      ],
      "text/latex": [
       "A tibble: 3 × 7\n",
       "\\begin{tabular}{lllllll}\n",
       " isin & name & ins\\_ccy & mic & vendor & symbol & sym\\_ccy\\\\\n",
       " <chr> & <chr> & <chr> & <chr> & <chr> & <chr> & <chr>\\\\\n",
       "\\hline\n",
       "\t DE0007164600 & SAP            & EUR & XETR & IEX & SAP-GY  & EUR\\\\\n",
       "\t DE0007664039 & Volkswagen Vz. & EUR & XETR & IEX & VOW3-GY & EUR\\\\\n",
       "\t DE0008404005 & Allianz SE     & EUR & XETR & IEX & ALV-GY  & EUR\\\\\n",
       "\\end{tabular}\n"
      ],
      "text/markdown": [
       "\n",
       "A tibble: 3 × 7\n",
       "\n",
       "| isin &lt;chr&gt; | name &lt;chr&gt; | ins_ccy &lt;chr&gt; | mic &lt;chr&gt; | vendor &lt;chr&gt; | symbol &lt;chr&gt; | sym_ccy &lt;chr&gt; |\n",
       "|---|---|---|---|---|---|---|\n",
       "| DE0007164600 | SAP            | EUR | XETR | IEX | SAP-GY  | EUR |\n",
       "| DE0007664039 | Volkswagen Vz. | EUR | XETR | IEX | VOW3-GY | EUR |\n",
       "| DE0008404005 | Allianz SE     | EUR | XETR | IEX | ALV-GY  | EUR |\n",
       "\n"
      ],
      "text/plain": [
       "  isin         name           ins_ccy mic  vendor symbol  sym_ccy\n",
       "1 DE0007164600 SAP            EUR     XETR IEX    SAP-GY  EUR    \n",
       "2 DE0007664039 Volkswagen Vz. EUR     XETR IEX    VOW3-GY EUR    \n",
       "3 DE0008404005 Allianz SE     EUR     XETR IEX    ALV-GY  EUR    "
      ]
     },
     "metadata": {},
     "output_type": "display_data"
    }
   ],
   "source": [
    "depotr:::get_wrapper(\"SELECT * FROM v_instrument_symbol LIMIT 10;\")"
   ]
  },
  {
   "cell_type": "code",
   "execution_count": 40,
   "metadata": {},
   "outputs": [
    {
     "data": {
      "text/html": [
       "<ol>\n",
       "\t<li><strong>5%:</strong> 71.92</li>\n",
       "\t<li><strong>5%:</strong> 30.81</li>\n",
       "\t<li><strong>5%:</strong> 55.9895</li>\n",
       "</ol>\n"
      ],
      "text/latex": [
       "\\begin{enumerate}\n",
       "\\item \\textbf{5\\textbackslash{}\\%:} 71.92\n",
       "\\item \\textbf{5\\textbackslash{}\\%:} 30.81\n",
       "\\item \\textbf{5\\textbackslash{}\\%:} 55.9895\n",
       "\\end{enumerate}\n"
      ],
      "text/markdown": [
       "1. **5%:** 71.92\n",
       "2. **5%:** 30.81\n",
       "3. **5%:** 55.9895\n",
       "\n",
       "\n"
      ],
      "text/plain": [
       "[[1]]\n",
       "   5% \n",
       "71.92 \n",
       "\n",
       "[[2]]\n",
       "   5% \n",
       "30.81 \n",
       "\n",
       "[[3]]\n",
       "     5% \n",
       "55.9895 \n"
      ]
     },
     "metadata": {},
     "output_type": "display_data"
    }
   ],
   "source": [
    "depotr:::get_wrapper(\"SELECT * FROM v_price_adjusted;\") %>%\n",
    " dplyr::group_by(symid) %>%\n",
    "dplyr::group_map(function(x,y){quantile(x$close,0.05)})"
   ]
  },
  {
   "cell_type": "code",
   "execution_count": null,
   "metadata": {},
   "outputs": [],
   "source": []
  }
 ],
 "metadata": {
  "kernelspec": {
   "display_name": "R",
   "language": "R",
   "name": "ir"
  },
  "language_info": {
   "codemirror_mode": "r",
   "file_extension": ".r",
   "mimetype": "text/x-r-source",
   "name": "R",
   "pygments_lexer": "r",
   "version": "3.6.1"
  }
 },
 "nbformat": 4,
 "nbformat_minor": 4
}
